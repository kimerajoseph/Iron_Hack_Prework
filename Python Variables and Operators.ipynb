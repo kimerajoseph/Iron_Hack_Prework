{
 "cells": [
  {
   "cell_type": "code",
   "execution_count": 1,
   "id": "90220f70",
   "metadata": {},
   "outputs": [
    {
     "name": "stdout",
     "output_type": "stream",
     "text": [
      "<class 'float'>\n",
      "<class 'str'>\n"
     ]
    }
   ],
   "source": [
    "x1 = 1.1\n",
    "x2 = \"Ironhack\"\n",
    "x3 = \"1.1\"\n",
    "x4 = True\n",
    "x5 = \"True\"\n",
    "x6 = -1\n",
    "\n",
    "print(type(x1))\n",
    "print(type(x3))\n",
    "\n",
    "#VARIABLE x1 IS OF TYPE FLOAT WHILE x3 IS INITIALISED AS A STRING"
   ]
  },
  {
   "cell_type": "code",
   "execution_count": 2,
   "id": "ca0fcf93",
   "metadata": {},
   "outputs": [
    {
     "name": "stdout",
     "output_type": "stream",
     "text": [
      "<class 'bool'>\n",
      "<class 'str'>\n"
     ]
    }
   ],
   "source": [
    "x4 = True\n",
    "x5 = \"True\"\n",
    "\n",
    "\n",
    "print(type(x4))\n",
    "print(type(x5))\n",
    "\n",
    "#VARIABLE x4 IS BOOLEAN WHILE x5 IS A STRING"
   ]
  },
  {
   "cell_type": "code",
   "execution_count": 6,
   "id": "a655afe0",
   "metadata": {},
   "outputs": [
    {
     "name": "stdout",
     "output_type": "stream",
     "text": [
      "Please enter an integer number: 4\n",
      "Please enter another integer number4\n",
      "x1 IS EQUAL TO x2 \n"
     ]
    }
   ],
   "source": [
    "x1 = input(\"Please enter an integer number: \")\n",
    "\n",
    "x2 = input(\"Please enter another integer number\")\n",
    "\n",
    "x1 = int(x1) # This converts string into integer and re-initializes `x1`\n",
    "x2 = int(x2) # This converts string into integer and re-initializes `x2`\n",
    "\n",
    "if x1 == x2:\n",
    "    print(\"x1 IS EQUAL TO x2 \")\n",
    "    #return True\n",
    "else:\n",
    "    print(\"x1 IS NOT EQUAL TO x2\")\n"
   ]
  },
  {
   "cell_type": "code",
   "execution_count": 9,
   "id": "ad6db866",
   "metadata": {},
   "outputs": [
    {
     "name": "stdout",
     "output_type": "stream",
     "text": [
      "Please enter an integer number: 20\n",
      "Please enter another integer number4\n",
      "X1 IS  20\n",
      "x1 IS GREATER THAN x2\n",
      "NOW x1 IS EQUAL TO x2\n"
     ]
    }
   ],
   "source": [
    "#CHECKING ALL CONDITIONS USING THE SAME CONDITIONAL LOOP\n",
    "x1 = input(\"Please enter an integer number: \")\n",
    "\n",
    "x2 = input(\"Please enter another integer number\")\n",
    "\n",
    "x1 = int(x1) # This converts string into integer and re-initializes `x1`\n",
    "x2 = int(x2) # This converts string into integer and re-initializes `x2`\n",
    "#print(\"X1 IS \",x1)\n",
    "\n",
    "if x1 == x2:\n",
    "    print(\"X1 IS EQUAL TO X2\")\n",
    "\n",
    "elif x1 > x2:\n",
    "    print(\"x1 IS GREATER THAN x2\")\n",
    "    difference = x1 - x2\n",
    "    x2 += difference\n",
    "    #print(x2)\n",
    "    if x1 == x2:\n",
    "        print(\"NOW x1 IS EQUAL TO x2\")\n",
    "    \n",
    "    else:\n",
    "        print(\"STILL NOT EQUAL\")\n",
    "    \n",
    "elif x2 > x1:\n",
    "    print(\"x2 IS GREATER THAN x1\")\n",
    "    difference = x2 - x1\n",
    "    x1 += difference\n",
    "    #print(x1)\n",
    "    if x1 == x2:\n",
    "        print(\"NOW x1 IS EQUAL TO x2\")\n",
    "    \n",
    "    else:\n",
    "        print(\"STILL NOT EQUAL\")\n",
    "    \n",
    "elif x1 != x2:\n",
    "    print(\"x1 IS NOT EQUAL TO x2\")\n",
    "    \n",
    "#OR WE COULD USE ABSOLUTE\n",
    "#difference = abs(x1-x2)\n"
   ]
  },
  {
   "cell_type": "code",
   "execution_count": 12,
   "id": "892f8c93",
   "metadata": {},
   "outputs": [
    {
     "name": "stdout",
     "output_type": "stream",
     "text": [
      "False\n",
      "12\n",
      "3.5958309192730407\n",
      "479001600\n"
     ]
    }
   ],
   "source": [
    "import math\n",
    "x = 12.93\n",
    "#CHECKING IF x IS A NUMBER\n",
    "ll = math.isnan(x)\n",
    "print(ll)\n",
    "\n",
    "#TRUNCATING x\n",
    "y = math.floor(x)\n",
    "print(y)\n",
    "\n",
    "#GETTING THE SQUARE ROOT OF x\n",
    "z = math.sqrt(x)\n",
    "print(z)\n",
    "\n",
    "#GETTING THE FACTORIAL OF x\n",
    "q = math.factorial(int(x))\n",
    "print(q)"
   ]
  },
  {
   "cell_type": "code",
   "execution_count": null,
   "id": "cdecd311",
   "metadata": {},
   "outputs": [],
   "source": []
  }
 ],
 "metadata": {
  "kernelspec": {
   "display_name": "Python 3",
   "language": "python",
   "name": "python3"
  },
  "language_info": {
   "codemirror_mode": {
    "name": "ipython",
    "version": 3
   },
   "file_extension": ".py",
   "mimetype": "text/x-python",
   "name": "python",
   "nbconvert_exporter": "python",
   "pygments_lexer": "ipython3",
   "version": "3.8.8"
  }
 },
 "nbformat": 4,
 "nbformat_minor": 5
}
