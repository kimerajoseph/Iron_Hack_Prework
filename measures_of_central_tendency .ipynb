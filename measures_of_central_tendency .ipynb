{
 "cells": [
  {
   "cell_type": "code",
   "execution_count": 1,
   "id": "134649d3",
   "metadata": {},
   "outputs": [
    {
     "name": "stdout",
     "output_type": "stream",
     "text": [
      "6.72\n",
      "7\n",
      "7\n",
      "{'mean': 6.72, 'median': 7, 'mode': 7}\n"
     ]
    }
   ],
   "source": [
    "import statistics as stats\n",
    "\n",
    "#QUESTION 1:\n",
    "#QUESTION 1.1\n",
    "#False. A DATASET CAN ONLY HAVE ONE MEDIAN\n",
    "\n",
    "#QUESTION 1.2:\n",
    "data = [4, 7, 5, 9, 8, 6, 7, 7, 8, 5, 6, 9, 8, 5, 8, 7, 4, 7, 3, 6, 8, 9, 7, 6, 9]\n",
    "\n",
    "mean = stats.mean(data)\n",
    "print(mean)\n",
    "median = stats.median(data)\n",
    "print(median)\n",
    "mode = stats.mode(data)\n",
    "print(mode)\n",
    "\n",
    "data_dictionary  = {'mean':mean,'median':median, 'mode':mode}\n",
    "# data_dictionary['mean'] = mean\n",
    "# data_dictionary['median'] = median\n",
    "# data_dictionary['mode'] = mode\n",
    "print(data_dictionary)\n",
    "\n",
    "#QUESTION 1.3\n",
    "#MEDIAN \n",
    "\n",
    "#QUESTION 1.4\n",
    "#IN EVEN DATA POINTS, the Median is the arithematic mean of (N/2)th term and (N/2 + 1)th term\n",
    "\n",
    "#QUESTION 1.5\n",
    "#OutlierS are data points that lie an abnormal distance from other values in a given dataset. \n",
    "#Its up to the analyst (or a consensus process) to decide what will be considered abnormal. \n",
    "\n",
    "#MEAN IS MORE SUSCEPTIBLE TO THE PRESENCE OF OUTLIERS\n",
    "\n"
   ]
  },
  {
   "cell_type": "code",
   "execution_count": null,
   "id": "ed78b8fc",
   "metadata": {},
   "outputs": [],
   "source": []
  }
 ],
 "metadata": {
  "kernelspec": {
   "display_name": "Python 3",
   "language": "python",
   "name": "python3"
  },
  "language_info": {
   "codemirror_mode": {
    "name": "ipython",
    "version": 3
   },
   "file_extension": ".py",
   "mimetype": "text/x-python",
   "name": "python",
   "nbconvert_exporter": "python",
   "pygments_lexer": "ipython3",
   "version": "3.8.8"
  }
 },
 "nbformat": 4,
 "nbformat_minor": 5
}
