{
 "cells": [
  {
   "cell_type": "code",
   "execution_count": 6,
   "id": "97038cd5",
   "metadata": {},
   "outputs": [
    {
     "name": "stdout",
     "output_type": "stream",
     "text": [
      "THE LIST HAS 18 ELEMENTS\n",
      "THE FIRST ELEMENT IN THE LIST IS:  1\n",
      "THE LAST ELEMENT IN THE LIST IS:  13\n",
      "THE INDEX OF ELEMENT 90 IS:  11\n",
      "USING FOR LOOP, INDEX IS:  11\n",
      "THE FIRST 8 ELEMENTS ARE:  [1, 2, 34, 5, 3, 12, 9, 8]\n",
      "LIST INCLUDING APPENDED VALUES:  [1, 2, 34, 5, 3, 12, 9, 8, 67, 89, 98, 90, 39, 21, 45, 46, 23, 13, 100, 110]\n"
     ]
    }
   ],
   "source": [
    "#QUESTION 1.1\n",
    "lst = [1,2,34,5,3,12,9, 8, 67, 89, 98, 90, 39, 21, 45, 46, 23, 13]\n",
    "\n",
    "print(f\"THE LIST HAS {len(lst)} ELEMENTS\")\n",
    "print(\"THE FIRST ELEMENT IN THE LIST IS: \", lst[0])\n",
    "print(\"THE LAST ELEMENT IN THE LIST IS: \", lst[-1])\n",
    "print(\"THE INDEX OF ELEMENT 90 IS: \", lst.index(90))\n",
    "\n",
    "#ITERATE THROUGH THE LIST UNTIL YOU FIND 90\n",
    "for i in lst:\n",
    "    if i == 90:\n",
    "        print(\"USING FOR LOOP, INDEX IS: \", lst.index(i))\n",
    "        \n",
    "#THE FIRST 8 ELEMENTS IN THE LIST. CREATE A NEW LIST\n",
    "#new_list = lst[:8]\n",
    "print(\"THE FIRST 8 ELEMENTS ARE: \", lst[:8])\n",
    "\n",
    "#APPEND BOTH VALUES ONE BY ONE\n",
    "lst.append(100)\n",
    "lst.append(110)\n",
    "print(\"LIST INCLUDING APPENDED VALUES: \", lst)\n",
    "\n",
    "\n"
   ]
  },
  {
   "cell_type": "code",
   "execution_count": 9,
   "id": "c98b76e1",
   "metadata": {},
   "outputs": [
    {
     "name": "stdout",
     "output_type": "stream",
     "text": [
      "2 APPEARS 5 TIMES IN THE LIST\n",
      "3 APPEARS 2 TIMES IN THE LIST\n"
     ]
    }
   ],
   "source": [
    "#QUESTION 1.2\n",
    "#BELOW IS A LIST WITH REPEATED VALUES\n",
    "list_1 = [1,2,3,2,2,2,4,5,2,3]\n",
    "#COUNT HOW MANY TIMES 2 APPEARS\n",
    "count,xl = 0,0\n",
    "for l in list_1:\n",
    "    if l == 2:\n",
    "        count += 1\n",
    "    \n",
    "    elif l ==3:\n",
    "        xl += 1\n",
    "print(f\"2 APPEARS {count} TIMES IN THE LIST\")\n",
    "print(f\"3 APPEARS {xl} TIMES IN THE LIST\")\n",
    "\n",
    "#ANSWER: YES, A LIST CAN HAVE MULTIPLE OCCURANCES OF THE SAME VALUE. OR MULTIPLE VALUES REPEATED SEVERAL TIMES AS SHOWN ABOVE"
   ]
  },
  {
   "cell_type": "code",
   "execution_count": null,
   "id": "fe786cca",
   "metadata": {},
   "outputs": [],
   "source": []
  }
 ],
 "metadata": {
  "kernelspec": {
   "display_name": "Python 3",
   "language": "python",
   "name": "python3"
  },
  "language_info": {
   "codemirror_mode": {
    "name": "ipython",
    "version": 3
   },
   "file_extension": ".py",
   "mimetype": "text/x-python",
   "name": "python",
   "nbconvert_exporter": "python",
   "pygments_lexer": "ipython3",
   "version": "3.8.8"
  }
 },
 "nbformat": 4,
 "nbformat_minor": 5
}
