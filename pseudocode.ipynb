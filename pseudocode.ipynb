{
 "cells": [
  {
   "cell_type": "code",
   "execution_count": 5,
   "id": "0118ae5b",
   "metadata": {},
   "outputs": [
    {
     "name": "stdout",
     "output_type": "stream",
     "text": [
      "SARUMAN WON:  4\n",
      "GANDALF WON:  6\n",
      "Gandalf wins\n"
     ]
    }
   ],
   "source": [
    "#QUESTION 1\n",
    "gandalf = [10, 11, 13, 30, 22, 11, 10, 33, 22, 22]\n",
    "saruman = [23, 66, 12, 43, 12, 10, 44, 23, 12, 17]\n",
    "\n",
    "gan_count = sal_count = 0\n",
    "for i in range(0,len(gandalf)): #SINCE BOTH LIST ARE OF THE SAME LENGTH\n",
    "    sal_pick = saruman[i]\n",
    "    gan_pick = gandalf[i]\n",
    "    if sal_pick > gan_pick:\n",
    "        sal_count = sal_count + 1\n",
    "\n",
    "    elif gan_pick > sal_pick:\n",
    "        gan_count = gan_count + 1\n",
    "print(\"SARUMAN WON: \", sal_count)\n",
    "print(\"GANDALF WON: \",gan_count)\n",
    "if gan_count > sal_count:\n",
    "    print(\"Gandalf wins\")\n",
    "\n",
    "elif sal_count > gan_count:\n",
    "    print(\"Saruman wins\")\n",
    "    \n",
    "else:\n",
    "    print(\"tie\")"
   ]
  },
  {
   "cell_type": "code",
   "execution_count": null,
   "id": "66bdfc9a",
   "metadata": {},
   "outputs": [],
   "source": []
  }
 ],
 "metadata": {
  "kernelspec": {
   "display_name": "Python 3",
   "language": "python",
   "name": "python3"
  },
  "language_info": {
   "codemirror_mode": {
    "name": "ipython",
    "version": 3
   },
   "file_extension": ".py",
   "mimetype": "text/x-python",
   "name": "python",
   "nbconvert_exporter": "python",
   "pygments_lexer": "ipython3",
   "version": "3.8.8"
  }
 },
 "nbformat": 4,
 "nbformat_minor": 5
}
