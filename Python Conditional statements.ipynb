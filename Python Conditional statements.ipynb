{
 "cells": [
  {
   "cell_type": "code",
   "execution_count": 9,
   "id": "5090e847",
   "metadata": {},
   "outputs": [
    {
     "name": "stdout",
     "output_type": "stream",
     "text": [
      "Please input number that is not Zero: 0\n",
      "NUMBER SHOULD BE A NON-ZERO INTEGER OR FLOAT \n",
      "Please input number that is not Zero: 5\n",
      "NUMBER IS ODD \n"
     ]
    }
   ],
   "source": [
    "import math\n",
    "number = input(\"Please input number that is not Zero: \")\n",
    "\n",
    "#CHECK FOR FULLSTOP TO ELIMINATE FLOATS\n",
    "if number.isnumeric() == True and '.' not in number:\n",
    "\n",
    "    number = int(number)\n",
    "    if number == 0:\n",
    "        print(\"NUMBER SHOULD BE A NON-ZERO INTEGER \")\n",
    "        number = int(input(\"Please input number that is not Zero: \"))\n",
    "        if (number % 2) == 0:\n",
    "            print(\"NUMBER IS EVEN\")\n",
    "\n",
    "        else:\n",
    "            print(\"NUMBER IS ODD \")\n",
    "\n",
    "    elif (number % 2) == 0:\n",
    "        print(\"NUMBER IS EVEN\")\n",
    "\n",
    "    elif (number % 2) != 0:\n",
    "        print(\"NUMBER IS ODD \")\n",
    "else:\n",
    "    print(\"FLOATS, STRINGS AND SYMBOLS ARE NOT ALLOWED. ENTER ONLY INTEGERS\")"
   ]
  },
  {
   "cell_type": "code",
   "execution_count": 4,
   "id": "d219f70c",
   "metadata": {},
   "outputs": [
    {
     "name": "stdout",
     "output_type": "stream",
     "text": [
      "Enter a number: -20\n",
      "Number is negative\n"
     ]
    }
   ],
   "source": [
    "num = int(input(\"Enter a number: \"))\n",
    "if num < 0:\n",
    "    print(\"Number is negative\")\n",
    "elif num > 0:\n",
    "    print(\"Number is positive\")\n",
    "elif num == 0:\n",
    "    print(\"Number is zero\")"
   ]
  },
  {
   "cell_type": "code",
   "execution_count": 6,
   "id": "b499b04d",
   "metadata": {},
   "outputs": [
    {
     "name": "stdout",
     "output_type": "stream",
     "text": [
      "Please enter marks: 82.7\n",
      "B\n"
     ]
    }
   ],
   "source": [
    "marks = float(input(\"Please enter marks: \"))\n",
    "if marks <0 or marks >100:\n",
    "    print(\"ENTER A VALUE BETWEEN 0 AND 100\")\n",
    "elif marks < 25:\n",
    "    print(\"F\")\n",
    "\n",
    "elif 25 <= marks < 45:\n",
    "    print(\"E\")\n",
    "\n",
    "elif 45 <= marks < 60:\n",
    "    print(\"D\")\n",
    "\n",
    "elif 60 <= marks < 75:\n",
    "    print(\"C\")\n",
    "\n",
    "elif 75 <= marks < 90:\n",
    "    print(\"B\")\n",
    "\n",
    "elif marks >= 90:\n",
    "    print(\"A\")"
   ]
  },
  {
   "cell_type": "code",
   "execution_count": null,
   "id": "1c11db4c",
   "metadata": {},
   "outputs": [],
   "source": []
  }
 ],
 "metadata": {
  "kernelspec": {
   "display_name": "Python 3",
   "language": "python",
   "name": "python3"
  },
  "language_info": {
   "codemirror_mode": {
    "name": "ipython",
    "version": 3
   },
   "file_extension": ".py",
   "mimetype": "text/x-python",
   "name": "python",
   "nbconvert_exporter": "python",
   "pygments_lexer": "ipython3",
   "version": "3.8.8"
  }
 },
 "nbformat": 4,
 "nbformat_minor": 5
}
