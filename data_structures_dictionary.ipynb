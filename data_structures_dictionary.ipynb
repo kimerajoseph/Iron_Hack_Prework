{
 "cells": [
  {
   "cell_type": "code",
   "execution_count": 5,
   "id": "7055f333",
   "metadata": {},
   "outputs": [
    {
     "name": "stdout",
     "output_type": "stream",
     "text": [
      "THE KEY-VALUE PAIRS ARE:  23\n",
      "THE DICTIONARY KEYS ARE:  dict_keys(['love', 'conversation', 'every', \"we're\", 'plate', 'sour', 'jukebox', 'now', 'taxi', 'fast', 'bag', 'man', 'push', 'baby', 'going', 'you', \"don't\", 'one', 'mind', 'backseat', 'friends', 'then', 'know'])\n",
      "friends APPEARS 1 TIMES\n",
      "taxi APPEARS 1 TIMES\n",
      "jukebox APPEARS 1 TIMES\n",
      "THE WORD 'begin' IS NOT PRESENT IN THE DICTIONARY\n",
      "{'love': 25, 'conversation': 1, 'every': 6, \"we're\": 1, 'plate': 1, 'sour': 1, 'jukebox': 1, 'now': 11, 'taxi': 1, 'fast': 1, 'bag': 1, 'man': 1, 'push': 3, 'baby': 14, 'going': 1, 'you': 16, \"don't\": 2, 'one': 1, 'mind': 2, 'backseat': 1, 'friends': 1, 'then': 3, 'know': 2, 'begin': 1, 'start': 2, 'over': 1, 'body': 17}\n",
      "KEYS CONVERTED TO LIST:  ['love', 'conversation', 'every', \"we're\", 'plate', 'sour', 'jukebox', 'now', 'taxi', 'fast', 'bag', 'man', 'push', 'baby', 'going', 'you', \"don't\", 'one', 'mind', 'backseat', 'friends', 'then', 'know', 'begin', 'start', 'over', 'body']\n",
      "THE FIRST WORD IN THE DICTIONARY IS:  love\n",
      "FREQUENCY OF love IS 25\n",
      "THE LAST WORD IN THE DICTIONARY IS:  body\n",
      "FREQUENCY OF body IS 17\n"
     ]
    }
   ],
   "source": [
    "#QUESTION 1.1\n",
    "word_freq = {\n",
    "  'love': 25,\n",
    "  'conversation': 1,\n",
    "  'every': 6,\n",
    "  \"we're\": 1,\n",
    "  'plate': 1,\n",
    "  'sour': 1,\n",
    "  'jukebox': 1,\n",
    "  'now': 11,\n",
    "  'taxi': 1,\n",
    "  'fast': 1,\n",
    "  'bag': 1,\n",
    "  'man': 1,\n",
    "  'push': 3,\n",
    "  'baby': 14,\n",
    "  'going': 1,\n",
    "  'you': 16,\n",
    "  \"don't\": 2,\n",
    "  'one': 1,\n",
    "  'mind': 2,\n",
    "  'backseat': 1,\n",
    "  'friends': 1,\n",
    "  'then': 3,\n",
    "  'know': 2\n",
    "}\n",
    "#GETTING LENGTH OF THE DICTIONARY\n",
    "print(\"THE KEY-VALUE PAIRS ARE: \", len(word_freq))\n",
    "\n",
    "#KEYS IN THE DICTIONARY\n",
    "dict_keys = word_freq.keys()\n",
    "print(\"THE DICTIONARY KEYS ARE: \", dict_keys)\n",
    "\n",
    "#FREQUECY OF WORDS ie VALUES OF SOME KEYS\n",
    "print(f\"friends APPEARS {word_freq['friends']} TIMES\")\n",
    "print(f\"taxi APPEARS {word_freq['taxi']} TIMES\")\n",
    "print(f\"jukebox APPEARS {word_freq['jukebox']} TIMES\")\n",
    "\n",
    "#CHECKING IF WORD 'begin' IN DICTIONARY\n",
    "if 'begin' in dict_keys:\n",
    "    print(\"YES PRESENT\")\n",
    "\n",
    "else:\n",
    "    print(\"THE WORD 'begin' IS NOT PRESENT IN THE DICTIONARY\")\n",
    "    \n",
    "#ADDING KEY-VALUE PAIRS TO THE DICTIONARY\n",
    "word_freq['begin'] = 1\n",
    "word_freq['start'] = 2\n",
    "word_freq['over'] = 1\n",
    "word_freq['body'] = 17\n",
    "#CONFIRMING THAT THEY HAVE BEEN ADDED\n",
    "print(word_freq)\n",
    "\n",
    "#CONVERTING THE DICTIONARY KEYS TO A LIST\n",
    "word = list(word_freq.keys())\n",
    "print(\"KEYS CONVERTED TO LIST: \", word)\n",
    "\n",
    "#FIRST WORD IN THE DICTIONARY\n",
    "#THE FIRST WORD IN THE DICTIONARY IS THE FIRST WORD IN THE LIST\n",
    "first_word = word[0]\n",
    "print(\"THE FIRST WORD IN THE DICTIONARY IS: \", first_word)\n",
    "print(f\"FREQUENCY OF {first_word} IS {word_freq[first_word]}\")\n",
    "#print(f\"{first_word} APPEARS {word.count(first_word)} TIMES\")\n",
    "\n",
    "#LAST WORD\n",
    "last_word = word[-1]\n",
    "print(\"THE LAST WORD IN THE DICTIONARY IS: \", last_word)\n",
    "print(f\"FREQUENCY OF {last_word} IS {word_freq[last_word]}\")\n",
    "#print(f\"{first_word} APPEARS {word.count(first_word)} TIMES\")\n",
    "\n"
   ]
  },
  {
   "cell_type": "code",
   "execution_count": 6,
   "id": "79dddc94",
   "metadata": {},
   "outputs": [
    {
     "name": "stdout",
     "output_type": "stream",
     "text": [
      "{'love': 25, 'conversation': 1, 'every': 30, \"we're\": 1, 'plate': 1, 'sour': 1, 'jukebox': 1, 'now': 11, 'taxi': 1, 'fast': 1, 'bag': 1, 'man': 1, 'push': 3, 'baby': 14, 'going': 1, 'you': 16, \"don't\": 2, 'one': 1, 'mind': 2, 'backseat': 1, 'friends': 1, 'then': 3, 'know': 2, 'begin': 1, 'start': 2, 'over': 1, 'body': 17}\n"
     ]
    }
   ],
   "source": [
    "#QUESTION 1.2\n",
    "#ANSWER\n",
    "#NO, KEYS ARE UNIQUE\n",
    "#IF YOU ADD A KEY THAT ALREADY EXISTS, IT OVERWRITED/UPDATES THE ONE IN THE DICTIONARY\n",
    "\n",
    "#EXAMPLE: LETS ADD A KEY THAT ALREADY EXISTS\n",
    "\n",
    "word_freq['every'] = 30\n",
    "print(word_freq)\n",
    "\n",
    "#AS OBSERVED, INSTEAD OF HAVING TWO 'every' KEYS, THE EXISTING ONE IS UPDATE"
   ]
  },
  {
   "cell_type": "code",
   "execution_count": null,
   "id": "5adbd614",
   "metadata": {},
   "outputs": [],
   "source": [
    "#QUESTION 1.3\n",
    "#ANSWER:\n",
    "#YES\n",
    "#FROM THE 'word_freq' DICTIONARY ABOVE, KEYS ('jukebox','taxi','fast','bag') HAVE THE SAME VALUE 1"
   ]
  }
 ],
 "metadata": {
  "kernelspec": {
   "display_name": "Python 3",
   "language": "python",
   "name": "python3"
  },
  "language_info": {
   "codemirror_mode": {
    "name": "ipython",
    "version": 3
   },
   "file_extension": ".py",
   "mimetype": "text/x-python",
   "name": "python",
   "nbconvert_exporter": "python",
   "pygments_lexer": "ipython3",
   "version": "3.8.8"
  }
 },
 "nbformat": 4,
 "nbformat_minor": 5
}
