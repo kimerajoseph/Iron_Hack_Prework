{
 "cells": [
  {
   "cell_type": "code",
   "execution_count": 2,
   "id": "f271ef78",
   "metadata": {},
   "outputs": [
    {
     "name": "stdout",
     "output_type": "stream",
     "text": [
      "10\n",
      "11\n",
      "12\n",
      "13\n",
      "14\n",
      "15\n",
      "16\n",
      "17\n",
      "18\n",
      "19\n",
      "20\n",
      "21\n",
      "22\n",
      "23\n",
      "24\n",
      "25\n",
      "26\n",
      "27\n",
      "28\n",
      "29\n",
      "30\n",
      "10\n",
      "13\n",
      "16\n",
      "19\n",
      "22\n",
      "25\n",
      "28\n"
     ]
    }
   ],
   "source": [
    "import math\n",
    "#QUESTION 1.1\n",
    "\n",
    "#PRINTING NUMBERS FROM 10 TO 30\n",
    "for i in range(10,31):\n",
    "    print(i)\n",
    "\n",
    "#PRINTING NUMBERS FROM 10 TO 30 IN STEPS OF 3\n",
    "for i in range(10,31,3):\n",
    "    print(i)\n",
    "                                           "
   ]
  },
  {
   "cell_type": "code",
   "execution_count": 3,
   "id": "89750585",
   "metadata": {},
   "outputs": [
    {
     "name": "stdout",
     "output_type": "stream",
     "text": [
      "10\n",
      "15\n",
      "20\n",
      "25\n",
      "30\n"
     ]
    }
   ],
   "source": [
    "#QUESTION 1.2\n",
    "#PRINT NUMBERS THAT ARE MULTIPLES OF 5\n",
    "for i in range(10,31):\n",
    "    if (i % 5) == 0:\n",
    "        print(i)"
   ]
  },
  {
   "cell_type": "code",
   "execution_count": 4,
   "id": "26678117",
   "metadata": {},
   "outputs": [
    {
     "name": "stdout",
     "output_type": "stream",
     "text": [
      "***\n",
      "***\n"
     ]
    }
   ],
   "source": [
    "#QUESTION 1.3\n",
    "for i in range(10):\n",
    "    for i in range(0,4,3):\n",
    "        if i == 3:\n",
    "            print('*' * i)\n",
    "            print('*' * i)\n",
    "\n",
    "    break"
   ]
  },
  {
   "cell_type": "code",
   "execution_count": 5,
   "id": "749bde82",
   "metadata": {},
   "outputs": [
    {
     "name": "stdout",
     "output_type": "stream",
     "text": [
      "***\n",
      "***\n"
     ]
    }
   ],
   "source": [
    "#QUESTION 1.4\n",
    "for i in range(10):\n",
    "    for i in range(0,4,3):\n",
    "        if i == 3:\n",
    "            print('*' * i)\n",
    "            print('*' * i)\n",
    "\n",
    "    break"
   ]
  },
  {
   "cell_type": "code",
   "execution_count": 6,
   "id": "06ac8f56",
   "metadata": {},
   "outputs": [
    {
     "name": "stdout",
     "output_type": "stream",
     "text": [
      "Please enter number: 6\n",
      "720\n",
      "720\n"
     ]
    }
   ],
   "source": [
    "#QUESTION 1.5\n",
    "factorial = 1\n",
    "number = int(input(\"Please enter number: \"))\n",
    "for i in range(1,number+1):\n",
    "    if i>1:\n",
    "        factorial = factorial * i\n",
    "        #print(factorial)\n",
    "\n",
    "print(factorial)\n",
    "\n",
    "#CHECKING FACTORIAL USING MATH LIBARARY\n",
    "print(math.factorial(number))"
   ]
  },
  {
   "cell_type": "code",
   "execution_count": 7,
   "id": "c7297e56",
   "metadata": {},
   "outputs": [
    {
     "name": "stdout",
     "output_type": "stream",
     "text": [
      "[12, 6, 12, 93, 783, 330]\n",
      "[43, 343, 93, 783]\n",
      "MINIMUM NUMBER IN LIST x IS:  1\n",
      "MAXIMUM NUMBER LIST x IS:  896\n"
     ]
    }
   ],
   "source": [
    "#EXERCISE TWO\n",
    "#QUESTION 2.1\n",
    "\n",
    "x = [12,43,4,1,6,343,10, 34, 12, 93, 783, 330, 896, 1, 55]\n",
    "ll = []\n",
    "for i in x:\n",
    "    if (i % 3) == 0:\n",
    "        ll.append(i)\n",
    "\n",
    "print(ll)\n",
    "\n",
    "xx = []\n",
    "for i in x:\n",
    "    xm = str(i)\n",
    "    if xm[-1] == '3':\n",
    "        xx.append(i)\n",
    "print(xx)\n",
    "\n",
    "min_number = min(x)\n",
    "max_number = max(x)\n",
    "print(f\"MINIMUM NUMBER IN LIST x IS: \", min_number)\n",
    "print(f\"MAXIMUM NUMBER LIST x IS: \", max_number)"
   ]
  },
  {
   "cell_type": "code",
   "execution_count": 1,
   "id": "4aa3719a",
   "metadata": {},
   "outputs": [
    {
     "name": "stdout",
     "output_type": "stream",
     "text": [
      "conversation\n",
      "we're\n",
      "plate\n",
      "sour\n",
      "jukebox\n",
      "taxi\n",
      "fast\n",
      "bag\n",
      "man\n",
      "going\n",
      "don't\n",
      "one\n",
      "mind\n",
      "backseat\n",
      "friends\n",
      "know\n",
      "love\n",
      "love\n"
     ]
    }
   ],
   "source": [
    "#EXERCISE THREE\n",
    "#QUESTION 3.1\n",
    "word_freq = {'love': 25, 'conversation': 1, 'every': 6, \"we're\": 1, 'plate': 1, 'sour': 1, 'jukebox': 1, 'now': 11, 'taxi': 1, 'fast': 1, 'bag': 1, 'man': 1, 'push': 3, 'baby': 14, 'going': 1, 'you': 16, \"don't\": 2, 'one': 1, 'mind': 2, 'backseat': 1, 'friends': 1, 'then': 3, 'know': 2}\n",
    "\n",
    "#GET THE KEYS\n",
    "dict_keys = word_freq.keys()\n",
    "#GET VALUES\n",
    "for i in dict_keys:\n",
    "    value = word_freq[i]\n",
    "    if value < 3:\n",
    "        print(i)\n",
    "        \n",
    "#WORD WITH THE HIGHEST FREQUENCY\n",
    "\n",
    "max_key = max(word_freq, key=word_freq.get)\n",
    "print(max_key)\n",
    "\n",
    "#USING LISTS\n",
    "# #CREATE TWO LISTS THEN USE INDEX\n",
    "keys_list = list(dict_keys)\n",
    "values_list = list(word_freq.values())\n",
    "max_value = max((values_list))\n",
    "max_value_index = values_list.index(max_value)\n",
    "highest_key = keys_list[max_value_index]\n",
    "print(highest_key)\n",
    "\n"
   ]
  },
  {
   "cell_type": "code",
   "execution_count": null,
   "id": "84f1d0ab",
   "metadata": {},
   "outputs": [],
   "source": []
  }
 ],
 "metadata": {
  "kernelspec": {
   "display_name": "Python 3",
   "language": "python",
   "name": "python3"
  },
  "language_info": {
   "codemirror_mode": {
    "name": "ipython",
    "version": 3
   },
   "file_extension": ".py",
   "mimetype": "text/x-python",
   "name": "python",
   "nbconvert_exporter": "python",
   "pygments_lexer": "ipython3",
   "version": "3.8.8"
  }
 },
 "nbformat": 4,
 "nbformat_minor": 5
}
