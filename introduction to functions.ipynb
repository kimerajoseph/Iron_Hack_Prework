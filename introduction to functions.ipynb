{
 "cells": [
  {
   "cell_type": "code",
   "execution_count": 1,
   "id": "5a83aa0e",
   "metadata": {},
   "outputs": [
    {
     "name": "stdout",
     "output_type": "stream",
     "text": [
      "GENERATION:  1989\n",
      "GENERATION:  1995\n",
      "GENERATION:  1960\n",
      "Jonh is millennial\n",
      "Mari is Z generation\n",
      "Mich is baby boomer\n"
     ]
    }
   ],
   "source": [
    "#QUESTION 1:\n",
    "name1 = \"Jonh\"\n",
    "birth_year1 = 1989\n",
    "\n",
    "name2 = \"Mari\"\n",
    "birth_year2 = 1995\n",
    "\n",
    "name3 = \"Mich\"\n",
    "birth_year3 = 1960\n",
    "\n",
    "def generation_calculator(name,birth_year):\n",
    "    generation = birth_year\n",
    "    print(\"GENERATION: \", generation)\n",
    "    \n",
    "    if generation < 1949:\n",
    "        return name + \" is silent generation\"\n",
    "    elif generation < 1969:\n",
    "        return name + \" is baby boomer\"\n",
    "    elif generation < 1981:\n",
    "        return name + \" is X generation\"\n",
    "    elif generation < 1994:\n",
    "        return name + \" is millennial\"\n",
    "    else:\n",
    "        return name + \" is Z generation\"\n",
    "\n",
    "result_1 = generation_calculator (name1, birth_year1)\n",
    "result_2 = generation_calculator (name2, birth_year2)\n",
    "result_3 = generation_calculator (name3, birth_year3)\n",
    "print(result_1)\n",
    "print(result_2)\n",
    "print(result_3)\n",
    "    "
   ]
  },
  {
   "cell_type": "code",
   "execution_count": null,
   "id": "cddd5d90",
   "metadata": {},
   "outputs": [],
   "source": []
  }
 ],
 "metadata": {
  "kernelspec": {
   "display_name": "Python 3",
   "language": "python",
   "name": "python3"
  },
  "language_info": {
   "codemirror_mode": {
    "name": "ipython",
    "version": 3
   },
   "file_extension": ".py",
   "mimetype": "text/x-python",
   "name": "python",
   "nbconvert_exporter": "python",
   "pygments_lexer": "ipython3",
   "version": "3.8.8"
  }
 },
 "nbformat": 4,
 "nbformat_minor": 5
}
