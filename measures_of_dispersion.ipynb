{
 "cells": [
  {
   "cell_type": "code",
   "execution_count": 3,
   "id": "231c3dcd",
   "metadata": {},
   "outputs": [
    {
     "name": "stdout",
     "output_type": "stream",
     "text": [
      "RANGE IS:  29\n"
     ]
    }
   ],
   "source": [
    "import statistics as stats\n",
    "\n",
    "#QUESTION 1.1\n",
    "points = [-4,  17,  25,  19,  6,  11,  7]\n",
    "range = max(points) - min(points)\n",
    "print(\"RANGE IS: \", range)\n"
   ]
  },
  {
   "cell_type": "code",
   "execution_count": 5,
   "id": "ca12d69b",
   "metadata": {},
   "outputs": [
    {
     "name": "stdout",
     "output_type": "stream",
     "text": [
      "2.804757862395017 4.131182235954578\n"
     ]
    }
   ],
   "source": [
    "#QUESTION 1.2\n",
    "data = [2,4,7,1,6,8]\n",
    "data2 = [2,4,7,1,12,8]\n",
    "\n",
    "sd1 = stats.stdev(data)\n",
    "sd2 = stats.stdev(data2)\n",
    "\n",
    "print(sd1, sd2)\n",
    "\n",
    "#ANSWER: STANDARD DEVIATION INCREASES"
   ]
  },
  {
   "cell_type": "code",
   "execution_count": 6,
   "id": "34940579",
   "metadata": {},
   "outputs": [
    {
     "name": "stdout",
     "output_type": "stream",
     "text": [
      "0.0\n"
     ]
    }
   ],
   "source": [
    "#QUESTION 1.3\n",
    "\n",
    "datax = [5,5,5,5,5,5]\n",
    "sd1 = stats.stdev(datax)\n",
    "print(sd1)\n",
    "#ANSWER: ITS POSSIBLE TO HAVE A STANDARD DEVIATION OF 0"
   ]
  },
  {
   "cell_type": "code",
   "execution_count": null,
   "id": "17f7763c",
   "metadata": {},
   "outputs": [],
   "source": [
    "#QUESTION 1.4\n",
    "\n",
    "#Deviation is the difference between a data point in a sample and the sample mean\n",
    "#Yes, deviation can be negative\n",
    "#formular is: deviation = x - mean , where x is the sample data point"
   ]
  },
  {
   "cell_type": "code",
   "execution_count": 7,
   "id": "3d210ca3",
   "metadata": {},
   "outputs": [
    {
     "name": "stdout",
     "output_type": "stream",
     "text": [
      "DATA2 MEAN IS:  41.5\n",
      "-18.5\n",
      "-29.5\n",
      "-7.5\n",
      "23.5\n",
      "-7.5\n",
      "39.5\n"
     ]
    }
   ],
   "source": [
    "#QUESTION 1.5\n",
    "\n",
    "data = [23, 12, 34, 65, 34, 81]\n",
    "data_mean =stats.mean(data)\n",
    "print(\"DATA2 MEAN IS: \", data_mean)\n",
    "for i in data:\n",
    "    diff = i - data_mean\n",
    "    print(diff)"
   ]
  },
  {
   "cell_type": "code",
   "execution_count": 2,
   "id": "5da4088d",
   "metadata": {},
   "outputs": [],
   "source": [
    "#QUESTION 1.6\n",
    "\n",
    "#Unit of variance is squared of the unit of the original data while unit of standard deviation is same as the unit \n",
    "#of the original data."
   ]
  },
  {
   "cell_type": "code",
   "execution_count": null,
   "id": "74ffa992",
   "metadata": {},
   "outputs": [],
   "source": []
  }
 ],
 "metadata": {
  "kernelspec": {
   "display_name": "Python 3",
   "language": "python",
   "name": "python3"
  },
  "language_info": {
   "codemirror_mode": {
    "name": "ipython",
    "version": 3
   },
   "file_extension": ".py",
   "mimetype": "text/x-python",
   "name": "python",
   "nbconvert_exporter": "python",
   "pygments_lexer": "ipython3",
   "version": "3.8.8"
  }
 },
 "nbformat": 4,
 "nbformat_minor": 5
}
